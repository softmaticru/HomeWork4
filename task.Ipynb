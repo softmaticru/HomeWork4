{
 "cells": [
  {
   "cell_type": "code",
   "execution_count": 1,
   "metadata": {},
   "outputs": [],
   "source": [
    "# Задаем исходные данные для решения ДЗ №4\n",
    "documents = [\n",
    "{'type': 'passport', 'number': '2207 876234', 'name': 'Василий Гупкин'},\n",
    "{'type': 'invoice', 'number': '11-2', 'name': 'Геннадий Покемонов'},\n",
    "{'type': 'insurance', 'number': '10006', 'name': 'Аристарх Павлов'}\n",
    "]\n",
    "\n",
    "directories = {\n",
    "'1': ['2207 876234', '11-2'],\n",
    "'2': ['10006'],\n",
    "'3': []\n",
    "}"
   ]
  },
  {
   "cell_type": "code",
   "execution_count": 2,
   "metadata": {},
   "outputs": [],
   "source": [
    "# определяем функцию поиска владельца документа\n",
    "def find_owner(documents, doc_number):\n",
    "    for doc in documents:\n",
    "        if doc['number'] == doc_number:\n",
    "            return f\"Владелец документа: {doc['name']}\"\n",
    "    return \"Владелец документа: владелец не найден\""
   ]
  },
  {
   "cell_type": "code",
   "execution_count": 3,
   "metadata": {},
   "outputs": [],
   "source": [
    "# определяем функцию поиска места хранения докумнета\n",
    "def find_repos(directories, doc_number):\n",
    "    for shelf, docs in directories.items():\n",
    "        if doc_number in docs:\n",
    "            return f\"Документ хранится на полке: {shelf}\"\n",
    "    return \"Документ не найден\""
   ]
  },
  {
   "cell_type": "code",
   "execution_count": 4,
   "metadata": {},
   "outputs": [
    {
     "name": "stdout",
     "output_type": "stream",
     "text": [
      "Владелец документа: Аристарх Павлов\n",
      "Документ хранится на полке: 2\n",
      "Некорректная команда. Попробуйте еще раз.\n"
     ]
    }
   ],
   "source": [
    "# определяем цикл поиска владельца документа или места хранения документа \n",
    "while True:\n",
    "    command = input(\"Введите команду (p - узнать владельца документа, s - узнать полку документа, q - выход): \")\n",
    "\n",
    "    if command == 'q':\n",
    "        break\n",
    "    elif command == 'p':\n",
    "        doc_number = input(\"Введите номер документа: \")\n",
    "        print(find_owner(documents, doc_number))\n",
    "    elif command == 's':\n",
    "        doc_number = input(\"Введите номер документа: \")\n",
    "        print(find_repos(directories, doc_number))\n",
    "    else:\n",
    "        print(\"Некорректная команда. Попробуйте еще раз.\")"
   ]
  }
 ],
 "metadata": {
  "kernelspec": {
   "display_name": "GPU",
   "language": "python",
   "name": "python3"
  },
  "language_info": {
   "codemirror_mode": {
    "name": "ipython",
    "version": 3
   },
   "file_extension": ".py",
   "mimetype": "text/x-python",
   "name": "python",
   "nbconvert_exporter": "python",
   "pygments_lexer": "ipython3",
   "version": "3.8.18"
  }
 },
 "nbformat": 4,
 "nbformat_minor": 2
}
